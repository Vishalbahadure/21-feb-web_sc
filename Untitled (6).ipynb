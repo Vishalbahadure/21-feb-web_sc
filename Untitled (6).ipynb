{
 "cells": [
  {
   "cell_type": "markdown",
   "id": "36d8b962-ec75-454d-ac1f-822e163d57ea",
   "metadata": {},
   "source": [
    "Q1. What is Web Scraping? Why is it Used? Give three areas where Web Scraping is used to get data.\n",
    "Web scraping refers to the automated extraction of data from websites. It is commonly used to gather information that is not readily available through APIs or databases. Web scraping finds applications in various fields such as:\n",
    "\n",
    "E-commerce: Price monitoring, competitor analysis, and product information aggregation.\n",
    "Research: Data collection for academic purposes, sentiment analysis, and trend monitoring.\n",
    "Finance: Stock market data extraction, financial news aggregation, and investment analysis."
   ]
  },
  {
   "cell_type": "markdown",
   "id": "e1659bc1-3a13-4a67-89f6-d138bc759e9b",
   "metadata": {},
   "source": [
    "Q2. What are the different methods used for Web Scraping?\n",
    "Web scraping can be accomplished using different methods, with Python being a popular choice due to its rich libraries like BeautifulSoup and Scrapy. Some common methods include:\n",
    "\n",
    "Using BeautifulSoup: A Python library for pulling data out of HTML and XML files.\n",
    "Scrapy Framework: An open-source and collaborative web crawling framework for Python.\n",
    "Selenium: Ideal for scraping dynamic websites by automating a web browser.\n",
    "Requests: A simple and elegant HTTP library for Python, useful for fetching web pages.\n",
    "APIs: Utilizing APIs provided by websites for structured data extraction."
   ]
  },
  {
   "cell_type": "markdown",
   "id": "a4344ceb-9f17-4620-80de-d17d4bfde09a",
   "metadata": {},
   "source": [
    "Q3. What is Beautiful Soup? Why is it used?\n",
    "Beautiful Soup is a Python library designed for web scraping tasks. It simplifies the process of parsing HTML and XML documents, making it easier to extract data from web pages. Beautiful Soup provides tools to navigate the parse tree and search for specific elements, attributes, or text within the document. It is widely used for extracting information from websites, performing data mining, and automating tasks that involve web content retrieval. Overall, Beautiful Soup is a valuable tool for developers and data scientists working on web scraping projects in Python"
   ]
  },
  {
   "cell_type": "markdown",
   "id": "6c532fb1-b12e-4ae6-b4cb-1bc2fe5c5b1f",
   "metadata": {},
   "source": [
    "Q4. Why is flask used in this Web Scraping project?\n",
    "Flask is utilized in Web Scraping projects to create a web application that can display the scraped data in a user-friendly manner. By integrating Flask, you can develop a web interface to showcase the extracted information, making it accessible and interactive for users. Flask's lightweight nature and simplicity make it an ideal choice for building such applications quickly and efficiently. Additionally, Flask allows for easy integration with Python scripts responsible for scraping data, enabling seamless communication between the scraping logic and the web interface. This integration enhances the overall user experience and provides a convenient way to visualize the scraped data."
   ]
  },
  {
   "cell_type": "markdown",
   "id": "59095057-92a7-4da8-9ae2-1bea03f82793",
   "metadata": {},
   "source": [
    "Q5. Write the names of AWS services used in this project. Also, explain the use of each service.\n",
    "in this project we first use code pipeline and beanstack\n",
    "firstly our project upload on github and then with help of github link put the code on code pipline and aftr transfer the beanstack.basically aws services"
   ]
  }
 ],
 "metadata": {
  "kernelspec": {
   "display_name": "Python 3 (ipykernel)",
   "language": "python",
   "name": "python3"
  },
  "language_info": {
   "codemirror_mode": {
    "name": "ipython",
    "version": 3
   },
   "file_extension": ".py",
   "mimetype": "text/x-python",
   "name": "python",
   "nbconvert_exporter": "python",
   "pygments_lexer": "ipython3",
   "version": "3.10.8"
  }
 },
 "nbformat": 4,
 "nbformat_minor": 5
}
